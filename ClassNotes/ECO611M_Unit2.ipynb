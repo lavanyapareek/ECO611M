{
  "nbformat": 4,
  "nbformat_minor": 0,
  "metadata": {
    "colab": {
      "provenance": [],
      "authorship_tag": "ABX9TyNMrUhsH0umokSacr3gNiUl"
    },
    "kernelspec": {
      "name": "python3",
      "display_name": "Python 3"
    },
    "language_info": {
      "name": "python"
    }
  },
  "cells": [
    {
      "cell_type": "markdown",
      "source": [
        "#29012025"
      ],
      "metadata": {
        "id": "qqY0e1GdNxRC"
      }
    },
    {
      "cell_type": "markdown",
      "source": [
        "##Unit 2 : Linear algebra with python.\n",
        "\n",
        "###Sublibrary of numpy for linear algebra : numpy.linalg"
      ],
      "metadata": {
        "id": "CHslvbsRRjRb"
      }
    },
    {
      "cell_type": "code",
      "source": [
        "import numpy.linalg as la\n",
        "import numpy as np"
      ],
      "metadata": {
        "id": "WvvnmvZCN0Od"
      },
      "execution_count": null,
      "outputs": []
    },
    {
      "cell_type": "markdown",
      "source": [
        "##Basic Matrix Operations\n",
        "\n",
        "Norm, Determinant, Eigenvalues, inverse"
      ],
      "metadata": {
        "id": "1pbneptGV-M7"
      }
    },
    {
      "cell_type": "markdown",
      "source": [
        "###Norm of a vector"
      ],
      "metadata": {
        "id": "q-fwpWLiSMfK"
      }
    },
    {
      "cell_type": "code",
      "source": [
        "x = np.array([1,2,3,4,5,6,7,8,9])"
      ],
      "metadata": {
        "id": "W_GX78hCSH_x"
      },
      "execution_count": null,
      "outputs": []
    },
    {
      "cell_type": "code",
      "source": [
        "la.norm(x)"
      ],
      "metadata": {
        "colab": {
          "base_uri": "https://localhost:8080/"
        },
        "id": "03076fMWSSX_",
        "outputId": "20790e4c-0f73-4b29-9507-9e09b6467e31"
      },
      "execution_count": null,
      "outputs": [
        {
          "output_type": "execute_result",
          "data": {
            "text/plain": [
              "16.881943016134134"
            ]
          },
          "metadata": {},
          "execution_count": 3
        }
      ]
    },
    {
      "cell_type": "code",
      "source": [
        "x = np.array([[1,2,3],[4,5,6],[7,8,9]])"
      ],
      "metadata": {
        "id": "iBEqPPwgSUrU"
      },
      "execution_count": null,
      "outputs": []
    },
    {
      "cell_type": "markdown",
      "source": [
        "###Rank of a matrix"
      ],
      "metadata": {
        "id": "uTtpe05NS4rC"
      }
    },
    {
      "cell_type": "code",
      "source": [
        "la.matrix_rank(x)"
      ],
      "metadata": {
        "colab": {
          "base_uri": "https://localhost:8080/"
        },
        "id": "aqda7yRZSZbl",
        "outputId": "e1e92822-79f0-4159-9aa2-dd85303b32d4"
      },
      "execution_count": null,
      "outputs": [
        {
          "output_type": "execute_result",
          "data": {
            "text/plain": [
              "2"
            ]
          },
          "metadata": {},
          "execution_count": 10
        }
      ]
    },
    {
      "cell_type": "markdown",
      "source": [
        "###Determinant of a matrix"
      ],
      "metadata": {
        "id": "N_0-LiUxS8Wj"
      }
    },
    {
      "cell_type": "code",
      "source": [
        "la.det(x)"
      ],
      "metadata": {
        "colab": {
          "base_uri": "https://localhost:8080/"
        },
        "id": "H-ebo73FSp3Q",
        "outputId": "1fe9b765-cf31-4c2a-e24a-eb393743c769"
      },
      "execution_count": null,
      "outputs": [
        {
          "output_type": "execute_result",
          "data": {
            "text/plain": [
              "0.0"
            ]
          },
          "metadata": {},
          "execution_count": 11
        }
      ]
    },
    {
      "cell_type": "markdown",
      "source": [
        "Raise to power of a matrix"
      ],
      "metadata": {
        "id": "p-bpG7G0TMpI"
      }
    },
    {
      "cell_type": "code",
      "source": [
        "la.matrix_power(x,10)"
      ],
      "metadata": {
        "colab": {
          "base_uri": "https://localhost:8080/"
        },
        "id": "lZR9I4aMTBaN",
        "outputId": "f70b65f2-310e-4821-d28a-85211215148f"
      },
      "execution_count": null,
      "outputs": [
        {
          "output_type": "execute_result",
          "data": {
            "text/plain": [
              "array([[132476037840, 162775103256, 193074168672],\n",
              "       [300005963406, 368621393481, 437236823556],\n",
              "       [467535888972, 574467683706, 681399478440]])"
            ]
          },
          "metadata": {},
          "execution_count": 14
        }
      ]
    },
    {
      "cell_type": "markdown",
      "source": [
        "EigenValues and EigenVectors"
      ],
      "metadata": {
        "id": "75_BF11GTXvc"
      }
    },
    {
      "cell_type": "code",
      "source": [
        "la.eig(x)[0] #EigenValues"
      ],
      "metadata": {
        "colab": {
          "base_uri": "https://localhost:8080/"
        },
        "id": "kaVwc-6kTJkD",
        "outputId": "916946c2-b153-4884-ebb5-ae43dd49620d"
      },
      "execution_count": null,
      "outputs": [
        {
          "output_type": "execute_result",
          "data": {
            "text/plain": [
              "array([ 1.61168440e+01, -1.11684397e+00, -1.30367773e-15])"
            ]
          },
          "metadata": {},
          "execution_count": 17
        }
      ]
    },
    {
      "cell_type": "code",
      "source": [
        "la.eig(x)[1] #EigenVectors"
      ],
      "metadata": {
        "colab": {
          "base_uri": "https://localhost:8080/"
        },
        "id": "KoUoSdzdTbye",
        "outputId": "f90361e1-189a-4aa6-b9b5-89041a2c4f9b"
      },
      "execution_count": null,
      "outputs": [
        {
          "output_type": "execute_result",
          "data": {
            "text/plain": [
              "array([[-0.23197069, -0.78583024,  0.40824829],\n",
              "       [-0.52532209, -0.08675134, -0.81649658],\n",
              "       [-0.8186735 ,  0.61232756,  0.40824829]])"
            ]
          },
          "metadata": {},
          "execution_count": 18
        }
      ]
    },
    {
      "cell_type": "code",
      "source": [
        "x"
      ],
      "metadata": {
        "colab": {
          "base_uri": "https://localhost:8080/"
        },
        "id": "TtdnfF3cUo5Q",
        "outputId": "6b8f7ae0-c85b-4240-ee6d-ef1ee07137a9"
      },
      "execution_count": null,
      "outputs": [
        {
          "output_type": "execute_result",
          "data": {
            "text/plain": [
              "array([[1, 2, 3],\n",
              "       [4, 5, 6],\n",
              "       [7, 8, 9]])"
            ]
          },
          "metadata": {},
          "execution_count": 25
        }
      ]
    },
    {
      "cell_type": "code",
      "source": [
        "#Store em\n",
        "[L, Q] = la.eig(x)"
      ],
      "metadata": {
        "id": "E09r--IwTmkm"
      },
      "execution_count": null,
      "outputs": []
    },
    {
      "cell_type": "code",
      "source": [
        "#Check if we have the right values\n",
        "x@Q[:,0] - L[0]*Q[:, 0]"
      ],
      "metadata": {
        "colab": {
          "base_uri": "https://localhost:8080/"
        },
        "id": "Qfxd889LTuk4",
        "outputId": "541afe9f-3439-4cfd-eaee-1c6f35c63eb8"
      },
      "execution_count": null,
      "outputs": [
        {
          "output_type": "execute_result",
          "data": {
            "text/plain": [
              "array([ 4.88498131e-15, -1.77635684e-15, -1.77635684e-15])"
            ]
          },
          "metadata": {},
          "execution_count": 26
        }
      ]
    },
    {
      "cell_type": "code",
      "source": [
        "x@Q[:,1] - L[1]*Q[:, 1]"
      ],
      "metadata": {
        "colab": {
          "base_uri": "https://localhost:8080/"
        },
        "id": "7xJi1zJMTvpo",
        "outputId": "84a2b272-6b89-4105-8268-fe18f5a5cd9b"
      },
      "execution_count": null,
      "outputs": [
        {
          "output_type": "execute_result",
          "data": {
            "text/plain": [
              "array([-2.22044605e-16, -7.35522754e-16, -1.55431223e-15])"
            ]
          },
          "metadata": {},
          "execution_count": 27
        }
      ]
    },
    {
      "cell_type": "code",
      "source": [
        "x@Q[:,2] - L[2]*Q[:, 2]"
      ],
      "metadata": {
        "colab": {
          "base_uri": "https://localhost:8080/"
        },
        "id": "NMto5SKLU6LH",
        "outputId": "c7b715e1-1be7-499d-ffcc-24a262f82127"
      },
      "execution_count": null,
      "outputs": [
        {
          "output_type": "execute_result",
          "data": {
            "text/plain": [
              "array([-4.11465368e-16, -2.06364913e-15,  3.65690749e-16])"
            ]
          },
          "metadata": {},
          "execution_count": 28
        }
      ]
    },
    {
      "cell_type": "code",
      "source": [
        "x@Q[:,2]"
      ],
      "metadata": {
        "colab": {
          "base_uri": "https://localhost:8080/"
        },
        "id": "RbEhot9DU9QB",
        "outputId": "fd46f654-7321-4fe5-c279-f3f0965eba04"
      },
      "execution_count": null,
      "outputs": [
        {
          "output_type": "execute_result",
          "data": {
            "text/plain": [
              "array([-9.43689571e-16, -9.99200722e-16, -1.66533454e-16])"
            ]
          },
          "metadata": {},
          "execution_count": 30
        }
      ]
    },
    {
      "cell_type": "code",
      "source": [
        "Q@(np.diag(L))@la.inv(Q) # x = QLQT"
      ],
      "metadata": {
        "colab": {
          "base_uri": "https://localhost:8080/"
        },
        "id": "LSG1UoObVF6M",
        "outputId": "7f07d0d1-0c53-4401-9ea5-3a1549bc98f5"
      },
      "execution_count": null,
      "outputs": [
        {
          "output_type": "execute_result",
          "data": {
            "text/plain": [
              "array([[1., 2., 3.],\n",
              "       [4., 5., 6.],\n",
              "       [7., 8., 9.]])"
            ]
          },
          "metadata": {},
          "execution_count": 41
        }
      ]
    },
    {
      "cell_type": "code",
      "source": [
        "x = np.array([[1,0,1], [0,1,1], [1,1,0]])"
      ],
      "metadata": {
        "id": "2YeqibWuWQ2P"
      },
      "execution_count": null,
      "outputs": []
    },
    {
      "cell_type": "code",
      "source": [
        "la.matrix_rank(x)"
      ],
      "metadata": {
        "colab": {
          "base_uri": "https://localhost:8080/"
        },
        "id": "IdiDo8jIW6_h",
        "outputId": "2feec969-2825-49bb-e93f-09cf9b51dad2"
      },
      "execution_count": null,
      "outputs": [
        {
          "output_type": "execute_result",
          "data": {
            "text/plain": [
              "3"
            ]
          },
          "metadata": {},
          "execution_count": 48
        }
      ]
    },
    {
      "cell_type": "code",
      "source": [
        "la.inv(x)"
      ],
      "metadata": {
        "colab": {
          "base_uri": "https://localhost:8080/"
        },
        "id": "_ds_EjWVW93M",
        "outputId": "a876b8f2-6284-49f0-9105-f3a7dcfd7e90"
      },
      "execution_count": null,
      "outputs": [
        {
          "output_type": "execute_result",
          "data": {
            "text/plain": [
              "array([[ 0.5, -0.5,  0.5],\n",
              "       [-0.5,  0.5,  0.5],\n",
              "       [ 0.5,  0.5, -0.5]])"
            ]
          },
          "metadata": {},
          "execution_count": 49
        }
      ]
    },
    {
      "cell_type": "code",
      "source": [
        "la.eig(x)"
      ],
      "metadata": {
        "colab": {
          "base_uri": "https://localhost:8080/"
        },
        "id": "rXEGC0slY4tx",
        "outputId": "751c0984-e6bb-431f-92b8-b2ed3194bd65"
      },
      "execution_count": null,
      "outputs": [
        {
          "output_type": "execute_result",
          "data": {
            "text/plain": [
              "EigResult(eigenvalues=array([-1.,  1.,  2.]), eigenvectors=array([[ 4.08248290e-01, -7.07106781e-01, -5.77350269e-01],\n",
              "       [ 4.08248290e-01,  7.07106781e-01, -5.77350269e-01],\n",
              "       [-8.16496581e-01, -1.19365036e-17, -5.77350269e-01]]))"
            ]
          },
          "metadata": {},
          "execution_count": 50
        }
      ]
    },
    {
      "cell_type": "code",
      "source": [
        "[L, Q] = la.eig(x)"
      ],
      "metadata": {
        "id": "wYgCpa2tY8GN"
      },
      "execution_count": null,
      "outputs": []
    },
    {
      "cell_type": "code",
      "source": [
        "Q"
      ],
      "metadata": {
        "colab": {
          "base_uri": "https://localhost:8080/"
        },
        "id": "scCD48a3ZAHb",
        "outputId": "09c39f9c-9a24-4650-b6da-29edffbc7222"
      },
      "execution_count": null,
      "outputs": [
        {
          "output_type": "execute_result",
          "data": {
            "text/plain": [
              "array([[ 4.08248290e-01, -7.07106781e-01, -5.77350269e-01],\n",
              "       [ 4.08248290e-01,  7.07106781e-01, -5.77350269e-01],\n",
              "       [-8.16496581e-01, -1.19365036e-17, -5.77350269e-01]])"
            ]
          },
          "metadata": {},
          "execution_count": 54
        }
      ]
    },
    {
      "cell_type": "code",
      "source": [
        "Q@np.diag(L)@Q.T"
      ],
      "metadata": {
        "colab": {
          "base_uri": "https://localhost:8080/"
        },
        "id": "r6jRpmpRZRGw",
        "outputId": "f8ea6a5d-b7a0-4347-b2e1-f1070d7f5692"
      },
      "execution_count": null,
      "outputs": [
        {
          "output_type": "execute_result",
          "data": {
            "text/plain": [
              "array([[1.00000000e+00, 2.22044605e-16, 1.00000000e+00],\n",
              "       [2.22044605e-16, 1.00000000e+00, 1.00000000e+00],\n",
              "       [1.00000000e+00, 1.00000000e+00, 0.00000000e+00]])"
            ]
          },
          "metadata": {},
          "execution_count": 55
        }
      ]
    },
    {
      "cell_type": "code",
      "source": [
        "Q.T@x@Q"
      ],
      "metadata": {
        "colab": {
          "base_uri": "https://localhost:8080/"
        },
        "id": "0jzZPKyxZ1k0",
        "outputId": "58c6583c-c346-4411-af1b-49caaa616022"
      },
      "execution_count": null,
      "outputs": [
        {
          "output_type": "execute_result",
          "data": {
            "text/plain": [
              "array([[-1.00000000e+00, -9.74611434e-18,  1.11022302e-16],\n",
              "       [ 0.00000000e+00,  1.00000000e+00,  3.88578059e-16],\n",
              "       [-1.11022302e-16,  3.46849994e-16,  2.00000000e+00]])"
            ]
          },
          "metadata": {},
          "execution_count": 56
        }
      ]
    },
    {
      "cell_type": "markdown",
      "source": [
        "#Singular Value Decomposition\n",
        "\n",
        "Let, A be a n*n matrix\n",
        "\n",
        "Then,  A = UΣV^T,\n",
        "\n",
        "where U_(m*m) is the eigenmatrix of AA^T\n",
        "\n",
        "and where V_(n*n) is the eigenmatrix of A^TA\n",
        "\n",
        "AA^T = UΛ_1U^T\n",
        "\n",
        "A^TA = VΛ_2V^T\n",
        "\n",
        "Σ_(mxn) = #\"Check Notes\"#"
      ],
      "metadata": {
        "id": "UopLJjQsaiT5"
      }
    },
    {
      "cell_type": "code",
      "source": [
        "la.svd(x)"
      ],
      "metadata": {
        "colab": {
          "base_uri": "https://localhost:8080/"
        },
        "id": "PMs5XAVIaAhA",
        "outputId": "e5fe44d5-f563-400f-d62b-534d7155aa23"
      },
      "execution_count": null,
      "outputs": [
        {
          "output_type": "execute_result",
          "data": {
            "text/plain": [
              "SVDResult(U=array([[-5.77350269e-01,  4.08248290e-01, -7.07106781e-01],\n",
              "       [-5.77350269e-01, -8.16496581e-01, -7.85046229e-17],\n",
              "       [-5.77350269e-01,  4.08248290e-01,  7.07106781e-01]]), S=array([2., 1., 1.]), Vh=array([[-0.57735027, -0.57735027, -0.57735027],\n",
              "       [ 0.81649658, -0.40824829, -0.40824829],\n",
              "       [-0.        ,  0.70710678, -0.70710678]]))"
            ]
          },
          "metadata": {},
          "execution_count": 58
        }
      ]
    },
    {
      "cell_type": "code",
      "source": [
        "[U, S, V] = la.svd(x)"
      ],
      "metadata": {
        "id": "pp1_R8ZhaE1T"
      },
      "execution_count": null,
      "outputs": []
    },
    {
      "cell_type": "code",
      "source": [
        "U"
      ],
      "metadata": {
        "colab": {
          "base_uri": "https://localhost:8080/"
        },
        "id": "MaL7gfHYg2LW",
        "outputId": "5f13c75e-76c5-4738-ac4a-2f952ea9fbef"
      },
      "execution_count": null,
      "outputs": [
        {
          "output_type": "execute_result",
          "data": {
            "text/plain": [
              "array([[-5.77350269e-01,  4.08248290e-01, -7.07106781e-01],\n",
              "       [-5.77350269e-01, -8.16496581e-01, -7.85046229e-17],\n",
              "       [-5.77350269e-01,  4.08248290e-01,  7.07106781e-01]])"
            ]
          },
          "metadata": {},
          "execution_count": 60
        }
      ]
    },
    {
      "cell_type": "code",
      "source": [],
      "metadata": {
        "id": "BRf8ljVyli2N"
      },
      "execution_count": null,
      "outputs": []
    },
    {
      "cell_type": "code",
      "source": [
        "S"
      ],
      "metadata": {
        "colab": {
          "base_uri": "https://localhost:8080/"
        },
        "id": "c5a9RluRg3Is",
        "outputId": "38b12820-80e0-47cb-b3c0-b9e5f87ee00d"
      },
      "execution_count": null,
      "outputs": [
        {
          "output_type": "execute_result",
          "data": {
            "text/plain": [
              "array([2., 1., 1.])"
            ]
          },
          "metadata": {},
          "execution_count": 61
        }
      ]
    },
    {
      "cell_type": "code",
      "source": [
        "V"
      ],
      "metadata": {
        "colab": {
          "base_uri": "https://localhost:8080/"
        },
        "id": "Oa_VyTYfg3hF",
        "outputId": "f51707ba-0614-40f0-80d2-cf3a748a0c50"
      },
      "execution_count": null,
      "outputs": [
        {
          "output_type": "execute_result",
          "data": {
            "text/plain": [
              "array([[-0.57735027, -0.57735027, -0.57735027],\n",
              "       [ 0.81649658, -0.40824829, -0.40824829],\n",
              "       [-0.        ,  0.70710678, -0.70710678]])"
            ]
          },
          "metadata": {},
          "execution_count": 62
        }
      ]
    },
    {
      "cell_type": "code",
      "source": [
        "la.eig(x@x.transpose())[1]"
      ],
      "metadata": {
        "colab": {
          "base_uri": "https://localhost:8080/"
        },
        "id": "DSt8Y8S3g4AU",
        "outputId": "dc897f5d-9fbe-4555-a1d2-0a299a3d7ce8"
      },
      "execution_count": null,
      "outputs": [
        {
          "output_type": "execute_result",
          "data": {
            "text/plain": [
              "array([[-0.81649658,  0.57735027, -0.32444284],\n",
              "       [ 0.40824829,  0.57735027, -0.48666426],\n",
              "       [ 0.40824829,  0.57735027,  0.81110711]])"
            ]
          },
          "metadata": {},
          "execution_count": 69
        }
      ]
    },
    {
      "cell_type": "markdown",
      "source": [
        "###Solve system of Equations"
      ],
      "metadata": {
        "id": "ofvx8Yg8o6rb"
      }
    },
    {
      "cell_type": "code",
      "source": [
        "la.solve(x, np.array([1,2,3]))"
      ],
      "metadata": {
        "colab": {
          "base_uri": "https://localhost:8080/"
        },
        "id": "IkpEkrTThSmK",
        "outputId": "f0ed0584-5c8d-4262-967b-a6df6a0a5743"
      },
      "execution_count": null,
      "outputs": [
        {
          "output_type": "execute_result",
          "data": {
            "text/plain": [
              "array([ 1.,  2., -0.])"
            ]
          },
          "metadata": {},
          "execution_count": 79
        }
      ]
    },
    {
      "cell_type": "code",
      "source": [
        "x = np.array([[1,2,3],[4,5,6],[7,8,9]])"
      ],
      "metadata": {
        "id": "9trKQXq2naru"
      },
      "execution_count": null,
      "outputs": []
    },
    {
      "cell_type": "code",
      "source": [
        "la.lstsq(x, np.array([1,2,1]), rcond = -1)"
      ],
      "metadata": {
        "colab": {
          "base_uri": "https://localhost:8080/"
        },
        "id": "680asNHTmOgY",
        "outputId": "f86d2253-286c-4afd-c4f5-a4f8f8e2180d"
      },
      "execution_count": null,
      "outputs": [
        {
          "output_type": "execute_result",
          "data": {
            "text/plain": [
              "(array([-6.66666667e-01,  2.22044605e-16,  6.66666667e-01]),\n",
              " array([], dtype=float64),\n",
              " 2,\n",
              " array([1.68481034e+01, 1.06836951e+00, 4.41842475e-16]))"
            ]
          },
          "metadata": {},
          "execution_count": 87
        }
      ]
    },
    {
      "cell_type": "markdown",
      "source": [
        "###Row Reduced Echelon Form"
      ],
      "metadata": {
        "id": "jJ6Dvbo_o1u9"
      }
    },
    {
      "cell_type": "code",
      "source": [
        "import numpy as np\n",
        "\n",
        "def rref(matrix):\n",
        "    matrix = np.array(matrix, dtype=float)  # Convert to float for accurate calculations\n",
        "\n",
        "    rows, cols = matrix.shape\n",
        "    lead = 0\n",
        "\n",
        "    for r in range(rows):\n",
        "        if lead >= cols:\n",
        "            break\n",
        "        i = r\n",
        "\n",
        "        while matrix[i, lead] == 0:\n",
        "            i += 1\n",
        "            if i == rows:\n",
        "                i = r\n",
        "                lead += 1\n",
        "                if cols == lead:\n",
        "                    return matrix\n",
        "        matrix[[i, r]] = matrix[[r, i]]  # Swap rows\n",
        "\n",
        "        if matrix[r, lead] != 0:\n",
        "            matrix[r] = matrix[r] / matrix[r, lead]  # Normalize row\n",
        "\n",
        "        for i in range(rows):\n",
        "            if i != r:\n",
        "                factor = matrix[i, lead]\n",
        "                matrix[i] = matrix[i] - factor * matrix[r]  # Eliminate other rows\n",
        "\n",
        "        lead += 1\n",
        "\n",
        "    return matrix"
      ],
      "metadata": {
        "id": "kST3j4KQnP-7"
      },
      "execution_count": null,
      "outputs": []
    },
    {
      "cell_type": "code",
      "source": [
        "rref(x)"
      ],
      "metadata": {
        "colab": {
          "base_uri": "https://localhost:8080/"
        },
        "id": "oaz_Tz2bpXVG",
        "outputId": "3584df1b-4da9-4b40-8bdb-119ddb135700"
      },
      "execution_count": null,
      "outputs": [
        {
          "output_type": "execute_result",
          "data": {
            "text/plain": [
              "array([[ 1.,  0., -1.],\n",
              "       [-0.,  1.,  2.],\n",
              "       [ 0.,  0.,  0.]])"
            ]
          },
          "metadata": {},
          "execution_count": 90
        }
      ]
    },
    {
      "cell_type": "markdown",
      "source": [
        "#LU Decomposition"
      ],
      "metadata": {
        "id": "hlPEnygDqyjY"
      }
    },
    {
      "cell_type": "code",
      "source": [
        "#See Notes"
      ],
      "metadata": {
        "id": "xCO0kDUdpjP-"
      },
      "execution_count": 1,
      "outputs": []
    },
    {
      "cell_type": "markdown",
      "source": [
        "#03020225"
      ],
      "metadata": {
        "id": "KwK8LXfYQuy5"
      }
    },
    {
      "cell_type": "code",
      "source": [
        "import numpy as np\n",
        "import numpy.linalg as la"
      ],
      "metadata": {
        "id": "gMP_rlTTT752"
      },
      "execution_count": 2,
      "outputs": []
    },
    {
      "cell_type": "code",
      "source": [
        "A = [[1,2,3],[4,5,6],[7,8,9],[10,11,12]]"
      ],
      "metadata": {
        "id": "fa5S1NofUBrh"
      },
      "execution_count": 4,
      "outputs": []
    },
    {
      "cell_type": "code",
      "source": [
        "#Pseduo Inverse of a matrix\n",
        "la.pinv(A)"
      ],
      "metadata": {
        "colab": {
          "base_uri": "https://localhost:8080/"
        },
        "id": "MSsBDWKNQuGQ",
        "outputId": "3ed1a7c1-7fee-430d-f8db-f0649e62e01f"
      },
      "execution_count": 6,
      "outputs": [
        {
          "output_type": "execute_result",
          "data": {
            "text/plain": [
              "array([[-0.48333333, -0.24444444, -0.00555556,  0.23333333],\n",
              "       [-0.03333333, -0.01111111,  0.01111111,  0.03333333],\n",
              "       [ 0.41666667,  0.22222222,  0.02777778, -0.16666667]])"
            ]
          },
          "metadata": {},
          "execution_count": 6
        }
      ]
    },
    {
      "cell_type": "code",
      "source": [
        "#QR Decomposition\n",
        "la.qr(A)"
      ],
      "metadata": {
        "colab": {
          "base_uri": "https://localhost:8080/"
        },
        "id": "Wes2IgjsVXHn",
        "outputId": "8bcc9f1e-c1f8-4d72-a971-1b8ca37c4c2d"
      },
      "execution_count": 9,
      "outputs": [
        {
          "output_type": "execute_result",
          "data": {
            "text/plain": [
              "QRResult(Q=array([[-0.07761505, -0.83305216,  0.54563501],\n",
              "       [-0.31046021, -0.45123659, -0.69190406],\n",
              "       [-0.54330537, -0.06942101, -0.2530969 ],\n",
              "       [-0.77615053,  0.31239456,  0.39936595]]), R=array([[-1.28840987e+01, -1.45916299e+01, -1.62991610e+01],\n",
              "       [ 0.00000000e+00, -1.04131520e+00, -2.08263040e+00],\n",
              "       [ 0.00000000e+00,  0.00000000e+00, -6.31169357e-15]]))"
            ]
          },
          "metadata": {},
          "execution_count": 9
        }
      ]
    },
    {
      "cell_type": "code",
      "source": [
        "[Q, R] = la.qr(A)"
      ],
      "metadata": {
        "id": "BQ1eT7khiLu2"
      },
      "execution_count": 10,
      "outputs": []
    },
    {
      "cell_type": "code",
      "source": [
        "Q #4x3"
      ],
      "metadata": {
        "colab": {
          "base_uri": "https://localhost:8080/"
        },
        "id": "XlUjv9AuiUOI",
        "outputId": "6741cbd4-6d62-41a9-a10f-cccc13d8337f"
      },
      "execution_count": 11,
      "outputs": [
        {
          "output_type": "execute_result",
          "data": {
            "text/plain": [
              "array([[-0.07761505, -0.83305216,  0.54563501],\n",
              "       [-0.31046021, -0.45123659, -0.69190406],\n",
              "       [-0.54330537, -0.06942101, -0.2530969 ],\n",
              "       [-0.77615053,  0.31239456,  0.39936595]])"
            ]
          },
          "metadata": {},
          "execution_count": 11
        }
      ]
    },
    {
      "cell_type": "code",
      "source": [
        "R #3x3"
      ],
      "metadata": {
        "colab": {
          "base_uri": "https://localhost:8080/"
        },
        "id": "boO4xkDMiUfi",
        "outputId": "7cdd80af-35f1-4316-ea50-50a32ee8eeab"
      },
      "execution_count": 12,
      "outputs": [
        {
          "output_type": "execute_result",
          "data": {
            "text/plain": [
              "array([[-1.28840987e+01, -1.45916299e+01, -1.62991610e+01],\n",
              "       [ 0.00000000e+00, -1.04131520e+00, -2.08263040e+00],\n",
              "       [ 0.00000000e+00,  0.00000000e+00, -6.31169357e-15]])"
            ]
          },
          "metadata": {},
          "execution_count": 12
        }
      ]
    },
    {
      "cell_type": "code",
      "source": [
        "Q@R"
      ],
      "metadata": {
        "colab": {
          "base_uri": "https://localhost:8080/"
        },
        "id": "GEKMlkqoiU0G",
        "outputId": "3d11e011-45b2-4da4-e598-af217a9d0d99"
      },
      "execution_count": 15,
      "outputs": [
        {
          "output_type": "execute_result",
          "data": {
            "text/plain": [
              "array([[ 1.,  2.,  3.],\n",
              "       [ 4.,  5.,  6.],\n",
              "       [ 7.,  8.,  9.],\n",
              "       [10., 11., 12.]])"
            ]
          },
          "metadata": {},
          "execution_count": 15
        }
      ]
    },
    {
      "cell_type": "code",
      "source": [
        "import numpy as np\n",
        "import numpy.linalg as la\n",
        "la.eig([[2,-2,-4],[-1,3,4], [1,-2,-3]])"
      ],
      "metadata": {
        "colab": {
          "base_uri": "https://localhost:8080/"
        },
        "id": "j_SR_OYgkmlr",
        "outputId": "d9bf7975-ded1-4091-c8f2-e995c1a709c8"
      },
      "execution_count": 9,
      "outputs": [
        {
          "output_type": "execute_result",
          "data": {
            "text/plain": [
              "EigResult(eigenvalues=array([9.64372082e-16, 1.00000000e+00, 1.00000000e+00]), eigenvectors=array([[ 0.57735027,  0.3867268 , -0.87863096],\n",
              "       [-0.57735027, -0.78252864,  0.30140083],\n",
              "       [ 0.57735027,  0.48794602, -0.37035816]]))"
            ]
          },
          "metadata": {},
          "execution_count": 9
        }
      ]
    },
    {
      "cell_type": "code",
      "source": [
        "la.eig([[2,-2,-4],[-1,3,4], [1,-2,-3]])[1][:, np.argmin(la.eig([[2,-2,-4],[-1,3,4], [1,-2,-3]])[0])].T @ np.array([[2,-2,-4],[-1,3,4], [1,-2,-3]]) @ la.eig([[2,-2,-4],[-1,3,4], [1,-2,-3]])[1][:, np.argmin(la.eig([[2,-2,-4],[-1,3,4], [1,-2,-3]])[0])]"
      ],
      "metadata": {
        "colab": {
          "base_uri": "https://localhost:8080/"
        },
        "id": "CEIP8ggnmHFi",
        "outputId": "4e0ecfdd-654a-4684-da3b-1f33f3b47fa5"
      },
      "execution_count": 11,
      "outputs": [
        {
          "output_type": "execute_result",
          "data": {
            "text/plain": [
              "-4.440892098500626e-16"
            ]
          },
          "metadata": {},
          "execution_count": 11
        }
      ]
    },
    {
      "cell_type": "code",
      "source": [],
      "metadata": {
        "id": "tTmzjIOHoq94"
      },
      "execution_count": null,
      "outputs": []
    }
  ]
}